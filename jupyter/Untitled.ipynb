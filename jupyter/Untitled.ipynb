{
 "cells": [
  {
   "cell_type": "code",
   "execution_count": 2,
   "id": "8f702e74-a6fc-4af7-8169-60376cec8290",
   "metadata": {},
   "outputs": [],
   "source": [
    "import numpy as np\n",
    "import matplotlib.pyplot as plt"
   ]
  },
  {
   "cell_type": "code",
   "execution_count": 3,
   "id": "b0f3ff3f-adaa-4ead-8c1c-10104ee8e102",
   "metadata": {},
   "outputs": [],
   "source": [
    "x = np.linspace(1, 10000, 100)"
   ]
  },
  {
   "cell_type": "code",
   "execution_count": null,
   "id": "5a8ecf8e-ad33-4995-873f-f2f0ff094ed7",
   "metadata": {},
   "outputs": [],
   "source": [
    "def f(x):\n",
    "    return x**8369 "
   ]
  }
 ],
 "metadata": {
  "kernelspec": {
   "display_name": "Python 3 (ipykernel)",
   "language": "python",
   "name": "python3"
  },
  "language_info": {
   "codemirror_mode": {
    "name": "ipython",
    "version": 3
   },
   "file_extension": ".py",
   "mimetype": "text/x-python",
   "name": "python",
   "nbconvert_exporter": "python",
   "pygments_lexer": "ipython3",
   "version": "3.11.3"
  }
 },
 "nbformat": 4,
 "nbformat_minor": 5
}
